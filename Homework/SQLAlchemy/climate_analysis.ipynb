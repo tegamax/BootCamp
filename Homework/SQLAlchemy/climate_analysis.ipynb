{
 "cells": [
  {
   "cell_type": "code",
   "execution_count": 1,
   "metadata": {},
   "outputs": [],
   "source": [
    "import sqlalchemy\n",
    "from sqlalchemy.ext.automap import automap_base\n",
    "from sqlalchemy.orm import Session\n",
    "from sqlalchemy import create_engine, inspect, func\n",
    "import datetime as dt\n",
    "import pandas as pd\n",
    "import matplotlib\n",
    "from matplotlib import style\n",
    "style.use('seaborn')\n",
    "import matplotlib.pyplot as plt\n",
    "from sqlalchemy import Column, Integer, String, Float, Text, ForeignKey\n",
    "import numpy as np"
   ]
  },
  {
   "cell_type": "code",
   "execution_count": 2,
   "metadata": {},
   "outputs": [],
   "source": [
    "engine = create_engine(\"sqlite:///hawaii2.sqlite\")"
   ]
  },
  {
   "cell_type": "code",
   "execution_count": 3,
   "metadata": {},
   "outputs": [],
   "source": [
    "Base = automap_base()"
   ]
  },
  {
   "cell_type": "code",
   "execution_count": 4,
   "metadata": {},
   "outputs": [],
   "source": [
    "Base.prepare(engine, reflect=True)"
   ]
  },
  {
   "cell_type": "code",
   "execution_count": 5,
   "metadata": {},
   "outputs": [
    {
     "data": {
      "text/plain": [
       "['measurements', 'station']"
      ]
     },
     "execution_count": 5,
     "metadata": {},
     "output_type": "execute_result"
    }
   ],
   "source": [
    "Base.classes.keys()"
   ]
  },
  {
   "cell_type": "code",
   "execution_count": 6,
   "metadata": {},
   "outputs": [
    {
     "data": {
      "text/plain": [
       "['measurements', 'station']"
      ]
     },
     "execution_count": 6,
     "metadata": {},
     "output_type": "execute_result"
    }
   ],
   "source": [
    "inspector = inspect(engine)\n",
    "inspector.get_table_names()"
   ]
  },
  {
   "cell_type": "code",
   "execution_count": 7,
   "metadata": {},
   "outputs": [
    {
     "data": {
      "text/plain": [
       "[(1, 'USC00519397', '2010-01-01', 0.08, 65),\n",
       " (2, 'USC00519397', '2010-01-02', 0.0, 63),\n",
       " (3, 'USC00519397', '2010-01-03', 0.0, 74),\n",
       " (4, 'USC00519397', '2010-01-04', 0.0, 76),\n",
       " (5, 'USC00519397', '2010-01-06', 0.0, 73),\n",
       " (6, 'USC00519397', '2010-01-07', 0.06, 70),\n",
       " (7, 'USC00519397', '2010-01-08', 0.0, 64),\n",
       " (8, 'USC00519397', '2010-01-09', 0.0, 68),\n",
       " (9, 'USC00519397', '2010-01-10', 0.0, 73),\n",
       " (10, 'USC00519397', '2010-01-11', 0.01, 64)]"
      ]
     },
     "execution_count": 7,
     "metadata": {},
     "output_type": "execute_result"
    }
   ],
   "source": [
    "engine.execute('SELECT * FROM measurements LIMIT 10').fetchall()"
   ]
  },
  {
   "cell_type": "code",
   "execution_count": 8,
   "metadata": {},
   "outputs": [],
   "source": [
    "Station = Base.classes.station\n",
    "Measurements = Base.classes.measurements"
   ]
  },
  {
   "cell_type": "code",
   "execution_count": 9,
   "metadata": {},
   "outputs": [],
   "source": [
    "session = Session(engine)"
   ]
  },
  {
   "cell_type": "code",
   "execution_count": 10,
   "metadata": {},
   "outputs": [
    {
     "name": "stdout",
     "output_type": "stream",
     "text": [
      "('2017-08-23',)\n"
     ]
    }
   ],
   "source": [
    "last_date = session.query(Measurements.date).order_by(Measurements.date.desc()).first()\n",
    "print(last_date)"
   ]
  },
  {
   "cell_type": "code",
   "execution_count": 11,
   "metadata": {},
   "outputs": [
    {
     "name": "stdout",
     "output_type": "stream",
     "text": [
      "2016-08-23\n"
     ]
    }
   ],
   "source": [
    "last_year = dt.date(2017, 8, 23) - dt.timedelta(days=365)\n",
    "print(last_year)"
   ]
  },
  {
   "cell_type": "code",
   "execution_count": 12,
   "metadata": {},
   "outputs": [],
   "source": [
    "rain = session.query(Measurements.date, Measurements.prcp).\\\n",
    "    filter(Measurements.date > last_year).\\\n",
    "    order_by(Measurements.date).all()"
   ]
  },
  {
   "cell_type": "code",
   "execution_count": 13,
   "metadata": {},
   "outputs": [
    {
     "data": {
      "text/html": [
       "<div>\n",
       "<style scoped>\n",
       "    .dataframe tbody tr th:only-of-type {\n",
       "        vertical-align: middle;\n",
       "    }\n",
       "\n",
       "    .dataframe tbody tr th {\n",
       "        vertical-align: top;\n",
       "    }\n",
       "\n",
       "    .dataframe thead th {\n",
       "        text-align: right;\n",
       "    }\n",
       "</style>\n",
       "<table border=\"1\" class=\"dataframe\">\n",
       "  <thead>\n",
       "    <tr style=\"text-align: right;\">\n",
       "      <th></th>\n",
       "      <th>date</th>\n",
       "      <th>prcp</th>\n",
       "    </tr>\n",
       "  </thead>\n",
       "  <tbody>\n",
       "    <tr>\n",
       "      <th>0</th>\n",
       "      <td>2016-08-24</td>\n",
       "      <td>0.08</td>\n",
       "    </tr>\n",
       "    <tr>\n",
       "      <th>1</th>\n",
       "      <td>2016-08-24</td>\n",
       "      <td>2.15</td>\n",
       "    </tr>\n",
       "    <tr>\n",
       "      <th>2</th>\n",
       "      <td>2016-08-24</td>\n",
       "      <td>2.28</td>\n",
       "    </tr>\n",
       "    <tr>\n",
       "      <th>3</th>\n",
       "      <td>2016-08-24</td>\n",
       "      <td>0.00</td>\n",
       "    </tr>\n",
       "    <tr>\n",
       "      <th>4</th>\n",
       "      <td>2016-08-24</td>\n",
       "      <td>1.22</td>\n",
       "    </tr>\n",
       "  </tbody>\n",
       "</table>\n",
       "</div>"
      ],
      "text/plain": [
       "         date  prcp\n",
       "0  2016-08-24  0.08\n",
       "1  2016-08-24  2.15\n",
       "2  2016-08-24  2.28\n",
       "3  2016-08-24  0.00\n",
       "4  2016-08-24  1.22"
      ]
     },
     "execution_count": 13,
     "metadata": {},
     "output_type": "execute_result"
    }
   ],
   "source": [
    "rain_df = pd.DataFrame(rain)\n",
    "rain_df.head()"
   ]
  },
  {
   "cell_type": "code",
   "execution_count": 14,
   "metadata": {},
   "outputs": [
    {
     "data": {
      "text/html": [
       "<div>\n",
       "<style scoped>\n",
       "    .dataframe tbody tr th:only-of-type {\n",
       "        vertical-align: middle;\n",
       "    }\n",
       "\n",
       "    .dataframe tbody tr th {\n",
       "        vertical-align: top;\n",
       "    }\n",
       "\n",
       "    .dataframe thead th {\n",
       "        text-align: right;\n",
       "    }\n",
       "</style>\n",
       "<table border=\"1\" class=\"dataframe\">\n",
       "  <thead>\n",
       "    <tr style=\"text-align: right;\">\n",
       "      <th></th>\n",
       "      <th>prcp</th>\n",
       "    </tr>\n",
       "    <tr>\n",
       "      <th>date</th>\n",
       "      <th></th>\n",
       "    </tr>\n",
       "  </thead>\n",
       "  <tbody>\n",
       "    <tr>\n",
       "      <th>2016-08-24</th>\n",
       "      <td>0.08</td>\n",
       "    </tr>\n",
       "    <tr>\n",
       "      <th>2016-08-24</th>\n",
       "      <td>2.15</td>\n",
       "    </tr>\n",
       "    <tr>\n",
       "      <th>2016-08-24</th>\n",
       "      <td>2.28</td>\n",
       "    </tr>\n",
       "    <tr>\n",
       "      <th>2016-08-24</th>\n",
       "      <td>0.00</td>\n",
       "    </tr>\n",
       "    <tr>\n",
       "      <th>2016-08-24</th>\n",
       "      <td>1.22</td>\n",
       "    </tr>\n",
       "  </tbody>\n",
       "</table>\n",
       "</div>"
      ],
      "text/plain": [
       "            prcp\n",
       "date            \n",
       "2016-08-24  0.08\n",
       "2016-08-24  2.15\n",
       "2016-08-24  2.28\n",
       "2016-08-24  0.00\n",
       "2016-08-24  1.22"
      ]
     },
     "execution_count": 14,
     "metadata": {},
     "output_type": "execute_result"
    }
   ],
   "source": [
    "rain_df.set_index('date').head()"
   ]
  },
  {
   "cell_type": "code",
   "execution_count": 15,
   "metadata": {},
   "outputs": [
    {
     "data": {
      "image/png": "[encoded data removed]",
      "text/plain": [
       "<matplotlib.figure.Figure at 0x1e3c9ef3940>"
      ]
     },
     "metadata": {},
     "output_type": "display_data"
    }
   ],
   "source": [
    "rain_df.plot('date', 'prcp')\n",
    "plt.xlabel(\"Date\")\n",
    "plt.ylabel(\"Rain in Inches\")\n",
    "plt.title(\"Precipitation Analysis (8/24/16 to 8/23/17)\")\n",
    "plt.legend([\"Precipitation\"])\n",
    "plt.xticks(rotation=45)\n",
    "plt.tight_layout()\n",
    "plt.show()"
   ]
  },
  {
   "cell_type": "code",
   "execution_count": 16,
   "metadata": {},
   "outputs": [
    {
     "data": {
      "text/html": [
       "<div>\n",
       "<style scoped>\n",
       "    .dataframe tbody tr th:only-of-type {\n",
       "        vertical-align: middle;\n",
       "    }\n",
       "\n",
       "    .dataframe tbody tr th {\n",
       "        vertical-align: top;\n",
       "    }\n",
       "\n",
       "    .dataframe thead th {\n",
       "        text-align: right;\n",
       "    }\n",
       "</style>\n",
       "<table border=\"1\" class=\"dataframe\">\n",
       "  <thead>\n",
       "    <tr style=\"text-align: right;\">\n",
       "      <th></th>\n",
       "      <th>prcp</th>\n",
       "    </tr>\n",
       "  </thead>\n",
       "  <tbody>\n",
       "    <tr>\n",
       "      <th>count</th>\n",
       "      <td>2223.000000</td>\n",
       "    </tr>\n",
       "    <tr>\n",
       "      <th>mean</th>\n",
       "      <td>0.159951</td>\n",
       "    </tr>\n",
       "    <tr>\n",
       "      <th>std</th>\n",
       "      <td>0.441220</td>\n",
       "    </tr>\n",
       "    <tr>\n",
       "      <th>min</th>\n",
       "      <td>0.000000</td>\n",
       "    </tr>\n",
       "    <tr>\n",
       "      <th>25%</th>\n",
       "      <td>0.000000</td>\n",
       "    </tr>\n",
       "    <tr>\n",
       "      <th>50%</th>\n",
       "      <td>0.010000</td>\n",
       "    </tr>\n",
       "    <tr>\n",
       "      <th>75%</th>\n",
       "      <td>0.110000</td>\n",
       "    </tr>\n",
       "    <tr>\n",
       "      <th>max</th>\n",
       "      <td>6.700000</td>\n",
       "    </tr>\n",
       "  </tbody>\n",
       "</table>\n",
       "</div>"
      ],
      "text/plain": [
       "              prcp\n",
       "count  2223.000000\n",
       "mean      0.159951\n",
       "std       0.441220\n",
       "min       0.000000\n",
       "25%       0.000000\n",
       "50%       0.010000\n",
       "75%       0.110000\n",
       "max       6.700000"
      ]
     },
     "execution_count": 16,
     "metadata": {},
     "output_type": "execute_result"
    }
   ],
   "source": [
    "rain_df.describe()"
   ]
  },
  {
   "cell_type": "code",
   "execution_count": 17,
   "metadata": {},
   "outputs": [
    {
     "name": "stdout",
     "output_type": "stream",
     "text": [
      "There are 9 stations.\n"
     ]
    }
   ],
   "source": [
    "locations = session.query(Measurements).group_by(Measurements.station).count()\n",
    "print(\"There are {} stations.\".format(locations))"
   ]
  },
  {
   "cell_type": "code",
   "execution_count": 20,
   "metadata": {},
   "outputs": [
    {
     "name": "stdout",
     "output_type": "stream",
     "text": [
      "The busiest Station was USC00519281 with 2772 weather observations.\n",
      "\n",
      "Here are all of the Stations (in descending order) with their number of observations:\n",
      "Station USC00519281 had 2772 weather observations.\n",
      "Station USC00519397 had 2724 weather observations.\n",
      "Station USC00513117 had 2709 weather observations.\n",
      "Station USC00519523 had 2669 weather observations.\n",
      "Station USC00516128 had 2612 weather observations.\n",
      "Station USC00514830 had 2202 weather observations.\n",
      "Station USC00511918 had 1979 weather observations.\n",
      "Station USC00517948 had 1372 weather observations.\n",
      "Station USC00518838 had 511 weather observations.\n"
     ]
    }
   ],
   "source": [
    "busy_station = session.query(Measurements.station, func.count(Measurements.tobs)).group_by(Measurements.station).\\\n",
    "               order_by(func.count(Measurements.tobs).desc()).all()\n",
    "\n",
    "busiest = busy_station[0][0]    \n",
    "print(\"The busiest Station was\",busiest,\"with\",busy_station[0][1],\"weather observations.\")\n",
    "print()\n",
    "print(\"Here are all of the Stations (in descending order) with their number of observations:\")\n",
    "for station, count in busy_station:\n",
    "    print(\"Station\",station,\"had\",count, \"weather observations.\")"
   ]
  },
  {
   "cell_type": "code",
   "execution_count": 21,
   "metadata": {},
   "outputs": [],
   "source": [
    "temperature = session.query(Measurements.station, Measurements.date, Measurements.tobs).\\\n",
    "    filter(Measurements.station == busiest).\\\n",
    "    filter(Measurements.date > last_year).\\\n",
    "    order_by(Measurements.date).all()"
   ]
  },
  {
   "cell_type": "code",
   "execution_count": 22,
   "metadata": {},
   "outputs": [
    {
     "data": {
      "image/png": "[encoded data removed]",
      "text/plain": [
       "<matplotlib.figure.Figure at 0x1e3c9ef3438>"
      ]
     },
     "metadata": {},
     "output_type": "display_data"
    }
   ],
   "source": [
    "temp_df=pd.DataFrame(temperature)\n",
    "plt.hist(temp_df['tobs'],12)\n",
    "plt.xlabel(\"Recorded Temperature\")\n",
    "plt.ylabel(\"Number of Recorded Observations\")\n",
    "plt.title(\"Station Analysis (8/24/16 to 8/23/17) for Station \" + busiest)\n",
    "plt.show()"
   ]
  },
  {
   "cell_type": "code",
   "execution_count": 23,
   "metadata": {},
   "outputs": [
    {
     "name": "stdout",
     "output_type": "stream",
     "text": [
      "[(62, 69.57142857142857, 74)]\n"
     ]
    }
   ],
   "source": [
    "def calc_temps(start_date, end_date):\n",
    "    \"\"\"TMIN, TAVG, and TMAX for a list of dates.\n",
    "    \n",
    "    Args:\n",
    "        start_date (string): A date string in the format %Y-%m-%d\n",
    "        end_date (string): A date string in the format %Y-%m-%d\n",
    "        \n",
    "    Returns:\n",
    "        TMIN, TAVE, and TMAX\n",
    "    \"\"\"\n",
    "    \n",
    "    return session.query(func.min(Measurements.tobs), func.avg(Measurements.tobs), func.max(Measurements.tobs)).\\\n",
    "        filter(Measurements.date >= start_date).filter(Measurements.date <= end_date).all()\n",
    "temp_range = (calc_temps('2012-02-28', '2012-03-05'))\n",
    "print(temp_range)"
   ]
  },
  {
   "cell_type": "code",
   "execution_count": 24,
   "metadata": {},
   "outputs": [
    {
     "name": "stdout",
     "output_type": "stream",
     "text": [
      "[(67, 74.47368421052632, 82)]\n"
     ]
    }
   ],
   "source": [
    "trip_arrive = dt.date(2018, 4, 1)\n",
    "trip_leave = dt.date(2018, 4, 15)\n",
    "last_year = dt.timedelta(days=365)\n",
    "temp_avg_lst_year = (calc_temps((trip_arrive-last_year), (trip_leave-last_year)))\n",
    "print(temp_avg_lst_year)"
   ]
  },
  {
   "cell_type": "code",
   "execution_count": 25,
   "metadata": {},
   "outputs": [
    {
     "data": {
      "image/png": "[encoded data removed]",
      "text/plain": [
       "<matplotlib.figure.Figure at 0x1e3ca33f160>"
      ]
     },
     "metadata": {},
     "output_type": "display_data"
    }
   ],
   "source": [
    "fig, ax = plt.subplots()\n",
    "x = range(len(temp_avg_lst_year))\n",
    "ax.boxplot(temp_avg_lst_year, patch_artist=True)\n",
    "ax.set_title('Trip Average Temperature From Prior Year')\n",
    "ax.set_ylabel(\"Temperature\")\n",
    "ax.set_xlabel(\"Trip\")\n",
    "fig.tight_layout()\n",
    "plt.show()"
   ]
  },
  {
   "cell_type": "code",
   "execution_count": 26,
   "metadata": {},
   "outputs": [
    {
     "data": {
      "image/png": "[encoded data removed]",
      "text/plain": [
       "<matplotlib.figure.Figure at 0x1e3cb3b21d0>"
      ]
     },
     "metadata": {},
     "output_type": "display_data"
    }
   ],
   "source": [
    "p2p = temp_avg_lst_year[0][2]-temp_avg_lst_year[0][0]\n",
    "avgtemp = temp_avg_lst_year[0][1]\n",
    "min_temp = temp_avg_lst_year[0][0]\n",
    "max_temp = temp_avg_lst_year[0][2]\n",
    "\n",
    "fig, ax = plt.subplots()\n",
    "bar_chart = ax.bar(1 , avgtemp, color= 'red', yerr=p2p)\n",
    "ax.set_xlabel(\"Trip\")\n",
    "ax.set_ylabel(\"Temperature\")\n",
    "ax.set_title(\"Trip Average Temperature From Prior Year\")\n",
    "\n",
    "def autolabels(rects):\n",
    "    for rect in rects:\n",
    "        h=rect.get_height()\n",
    "        ax.text(rect.get_x() + rect.get_width()/2., .6*h,'%.2f' % float(h) ,ha='center', va='bottom', fontsize=10)\n",
    "\n",
    "        \n",
    "    # label the bars \n",
    "autolabels(bar_chart)        \n",
    "plt.ylim(0, 100)\n",
    "plt.xlim(0,2)\n",
    "fig.tight_layout()\n",
    "plt.show()"
   ]
  },
  {
   "cell_type": "code",
   "execution_count": null,
   "metadata": {},
   "outputs": [],
   "source": []
  }
 ],
 "metadata": {
  "kernelspec": {
   "display_name": "Python 3",
   "language": "python",
   "name": "python3"
  },
  "language_info": {
   "codemirror_mode": {
    "name": "ipython",
    "version": 3
   },
   "file_extension": ".py",
   "mimetype": "text/x-python",
   "name": "python",
   "nbconvert_exporter": "python",
   "pygments_lexer": "ipython3",
   "version": "3.6.4"
  }
 },
 "nbformat": 4,
 "nbformat_minor": 2
}
